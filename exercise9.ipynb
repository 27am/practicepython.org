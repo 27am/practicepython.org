{
 "cells": [
  {
   "cell_type": "code",
   "execution_count": 1,
   "metadata": {
    "collapsed": true
   },
   "outputs": [],
   "source": [
    "__author__ = \"27am\"\n",
    "\n",
    "import random"
   ]
  },
  {
   "cell_type": "code",
   "execution_count": 4,
   "metadata": {},
   "outputs": [
    {
     "name": "stdout",
     "output_type": "stream",
     "text": [
      "Insert number or exit: 6\n",
      "Higher..\n",
      "Insert number or exit: 8\n",
      "Lower..\n",
      "Insert number or exit: 9\n",
      "Lower..\n",
      "Insert number or exit: 0\n",
      "Higher..\n",
      "Insert number or exit: 3\n",
      "Higher..\n",
      "Insert number or exit: 8\n",
      "Lower..\n",
      "Insert number or exit: 7\n",
      "You have guessed! and it took 7 tries\n",
      "Insert number or exit: 4\n",
      "Lower..\n",
      "Insert number or exit: 2\n",
      "Higher..\n",
      "Insert number or exit: 3\n",
      "You have guessed! and it took 3 tries\n",
      "Insert number or exit: 7\n",
      "Lower..\n",
      "Insert number or exit: 3\n",
      "Higher..\n",
      "Insert number or exit: 5\n",
      "You have guessed! and it took 3 tries\n",
      "Insert number or exit: exit\n",
      "You have played 3 times\n"
     ]
    }
   ],
   "source": [
    "user_input = \"\"  # to prevent skipping the while loop on the second execution\n",
    "n_games = -1     # to be coherent with the numeration\n",
    "\n",
    "while user_input != \"exit\":\n",
    "    \n",
    "    counter = 1\n",
    "    my_random = random.randint(1,9)\n",
    "    \n",
    "    while True: \n",
    "        user_input = input(\"Insert number or exit: \")\n",
    "\n",
    "        if user_input == \"exit\":\n",
    "            break\n",
    "        else:\n",
    "            user_input = int(user_input)\n",
    "\n",
    "            if user_input == my_random:\n",
    "                print(\"You have guessed! and it took %s tries\" %counter)\n",
    "                break\n",
    "            elif user_input > my_random:\n",
    "                counter += 1\n",
    "                print(\"Lower..\")\n",
    "                \n",
    "            elif user_input < my_random:\n",
    "                counter += 1\n",
    "                print (\"Higher..\")\n",
    "                \n",
    "    n_games += 1\n",
    "    \n",
    "\n",
    "print(\"You have played %s times\" %n_games)"
   ]
  },
  {
   "cell_type": "code",
   "execution_count": null,
   "metadata": {
    "collapsed": true
   },
   "outputs": [],
   "source": []
  }
 ],
 "metadata": {
  "kernelspec": {
   "display_name": "Python 3",
   "language": "python",
   "name": "python3"
  },
  "language_info": {
   "codemirror_mode": {
    "name": "ipython",
    "version": 3
   },
   "file_extension": ".py",
   "mimetype": "text/x-python",
   "name": "python",
   "nbconvert_exporter": "python",
   "pygments_lexer": "ipython3",
   "version": "3.6.3"
  }
 },
 "nbformat": 4,
 "nbformat_minor": 2
}
