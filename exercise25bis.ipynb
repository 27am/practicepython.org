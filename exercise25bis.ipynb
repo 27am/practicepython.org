{
 "cells": [
  {
   "cell_type": "markdown",
   "metadata": {},
   "source": [
    "You, the user, will have in your head a number between 0 and 100. The program will guess a number, and you, the user, will say whether it is too high, too low, or your number.\n",
    "\n",
    "At the end of this exchange, your program should print out how many guesses it took to get your number.\n",
    "\n",
    "As the writer of this program, you will have to choose how your program will strategically guess. A naive strategy can be to simply start the guessing at 1, and keep going (2, 3, 4, etc.) until you hit the number. But that’s not an optimal guessing strategy. An alternate strategy might be to guess 50 (right in the middle of the range), and then increase / decrease by 1 as needed. After you’ve written the program, try to find the optimal strategy!"
   ]
  },
  {
   "cell_type": "code",
   "execution_count": 5,
   "metadata": {
    "collapsed": true
   },
   "outputs": [],
   "source": [
    "__author__ = \"27am\""
   ]
  },
  {
   "cell_type": "code",
   "execution_count": 6,
   "metadata": {
    "collapsed": true
   },
   "outputs": [],
   "source": [
    "import random"
   ]
  },
  {
   "cell_type": "code",
   "execution_count": 7,
   "metadata": {},
   "outputs": [],
   "source": [
    "def binary_search(lower = 0, higher = 100):\n",
    "    \n",
    "    print(\"----BINARY SEARCH APPROACH----\")\n",
    "    \n",
    "    guessed = False\n",
    "    counter = 1\n",
    "    \n",
    "    print(\"Think about a number between 0 and 100...\")\n",
    "    \n",
    "    try:\n",
    "        while not guessed:\n",
    "\n",
    "            nlist = list(range(lower, higher + 1))\n",
    "\n",
    "            index = int(len(nlist) / 2)\n",
    "\n",
    "            print(\"My guess is: {}\".format(nlist[index]))\n",
    "            feedback = str(input(\"Insert: \"))\n",
    "\n",
    "            if feedback == \"h\":\n",
    "                lower = nlist[index] + 1\n",
    "                counter += 1\n",
    "            elif feedback == \"l\":\n",
    "                higher = nlist[index] - 1\n",
    "                counter += 1\n",
    "            elif feedback == \"y\":\n",
    "                print(\"Yay! I have guessed in {} tries\".format(counter))\n",
    "                guessed = True\n",
    "            else:\n",
    "                print(\"Insert either 'h' or 'l' or 'y'\")\n",
    "                \n",
    "    except IndexError:\n",
    "        print(\"You are cheating...\")"
   ]
  },
  {
   "cell_type": "code",
   "execution_count": 8,
   "metadata": {
    "collapsed": true
   },
   "outputs": [],
   "source": [
    "def guess_uniformly(lower = 0, higher = 100):\n",
    "\n",
    "    print(\"----UNIFORM GUESSING APPROACH----\")\n",
    "    \n",
    "    guessed = False\n",
    "    counter = 1\n",
    "\n",
    "    print(\"Think about a number between 0 and 100...\")\n",
    "\n",
    "    while not guessed:\n",
    "\n",
    "        try: \n",
    "\n",
    "            guess = random.randint(lower, higher)\n",
    "            print(\"My guess is: {}\".format(guess))\n",
    "\n",
    "            feedback = str(input(\"Insert: \"))\n",
    "\n",
    "            if feedback == \"h\":\n",
    "                lower = guess + 1\n",
    "                counter += 1\n",
    "            elif feedback == \"l\":\n",
    "                higher = guess -1\n",
    "                counter += 1\n",
    "            elif feedback == \"y\":\n",
    "                print(\"Yay! I have guessed in {} tries\".format(counter))\n",
    "                guessed = True\n",
    "            else:\n",
    "                print(\"Insert either 'h' or 'l' or 'y'\")\n",
    "        except ValueError:\n",
    "            print(\"You are cheating...\")\n",
    "            break"
   ]
  },
  {
   "cell_type": "code",
   "execution_count": 9,
   "metadata": {
    "collapsed": true
   },
   "outputs": [],
   "source": [
    "def main():\n",
    "    guess_uniformly(0, 100)\n",
    "    binary_search(0,100)"
   ]
  },
  {
   "cell_type": "code",
   "execution_count": null,
   "metadata": {},
   "outputs": [
    {
     "name": "stdout",
     "output_type": "stream",
     "text": [
      "----UNIFORM GUESSING APPROACH----\n",
      "Thing about a number between 0 and 100...\n",
      "My guess is: 14\n",
      "Insert: h\n",
      "My guess is: 23\n",
      "Insert: h\n",
      "My guess is: 38\n",
      "Insert: h\n",
      "My guess is: 90\n",
      "Insert: l\n",
      "My guess is: 70\n",
      "Insert: h\n",
      "My guess is: 75\n",
      "Insert: y\n",
      "Yay! I have guessed in 6 tries\n",
      "----BINARY SEARCH APPROACH----\n",
      "My guess is: 50\n"
     ]
    }
   ],
   "source": [
    "if __name__ == \"__main__\":\n",
    "    main()"
   ]
  },
  {
   "cell_type": "code",
   "execution_count": null,
   "metadata": {
    "collapsed": true
   },
   "outputs": [],
   "source": []
  }
 ],
 "metadata": {
  "kernelspec": {
   "display_name": "Python 3",
   "language": "python",
   "name": "python3"
  },
  "language_info": {
   "codemirror_mode": {
    "name": "ipython",
    "version": 3
   },
   "file_extension": ".py",
   "mimetype": "text/x-python",
   "name": "python",
   "nbconvert_exporter": "python",
   "pygments_lexer": "ipython3",
   "version": "3.6.3"
  }
 },
 "nbformat": 4,
 "nbformat_minor": 2
}
