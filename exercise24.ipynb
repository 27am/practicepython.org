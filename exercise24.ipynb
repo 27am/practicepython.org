{
 "cells": [
  {
   "cell_type": "markdown",
   "metadata": {},
   "source": [
    "Time for some fake graphics! Let’s say we want to draw game boards \n",
    "\n",
    "This one is 3x3 (like in tic tac toe). Obviously, they come in many other sizes (8x8 for chess, 19x19 for Go, and many more).\n",
    "\n",
    "Ask the user what size game board they want to draw, and draw it for them to the screen using Python’s print statement."
   ]
  },
  {
   "cell_type": "code",
   "execution_count": 59,
   "metadata": {},
   "outputs": [
    {
     "name": "stdout",
     "output_type": "stream",
     "text": [
      "Insert a number: 7\n",
      "Insert a number: 11\n"
     ]
    }
   ],
   "source": [
    "a = int(input(\"Insert a number: \"))\n",
    "b = int(input(\"Insert a number: \"))"
   ]
  },
  {
   "cell_type": "code",
   "execution_count": 60,
   "metadata": {},
   "outputs": [],
   "source": [
    "def print_board(horiz = 3, vert = 3):\n",
    "    \n",
    "\n",
    "    for i in range(vert):\n",
    "        print(\" --- \" * horiz , end=\"\\n\")\n",
    "        \n",
    "        for j in range(horiz + 1):\n",
    "            print(\"{}    \".format(\"|\"), end=\"\")\n",
    "            \n",
    "        print(\"\\n\")\n",
    "        \n",
    "    print(\" --- \" * horiz)"
   ]
  },
  {
   "cell_type": "code",
   "execution_count": 61,
   "metadata": {},
   "outputs": [
    {
     "name": "stdout",
     "output_type": "stream",
     "text": [
      " ---  ---  ---  ---  ---  ---  --- \n",
      "|    |    |    |    |    |    |    |    \n",
      "\n",
      " ---  ---  ---  ---  ---  ---  --- \n",
      "|    |    |    |    |    |    |    |    \n",
      "\n",
      " ---  ---  ---  ---  ---  ---  --- \n",
      "|    |    |    |    |    |    |    |    \n",
      "\n",
      " ---  ---  ---  ---  ---  ---  --- \n",
      "|    |    |    |    |    |    |    |    \n",
      "\n",
      " ---  ---  ---  ---  ---  ---  --- \n",
      "|    |    |    |    |    |    |    |    \n",
      "\n",
      " ---  ---  ---  ---  ---  ---  --- \n",
      "|    |    |    |    |    |    |    |    \n",
      "\n",
      " ---  ---  ---  ---  ---  ---  --- \n",
      "|    |    |    |    |    |    |    |    \n",
      "\n",
      " ---  ---  ---  ---  ---  ---  --- \n",
      "|    |    |    |    |    |    |    |    \n",
      "\n",
      " ---  ---  ---  ---  ---  ---  --- \n",
      "|    |    |    |    |    |    |    |    \n",
      "\n",
      " ---  ---  ---  ---  ---  ---  --- \n",
      "|    |    |    |    |    |    |    |    \n",
      "\n",
      " ---  ---  ---  ---  ---  ---  --- \n",
      "|    |    |    |    |    |    |    |    \n",
      "\n",
      " ---  ---  ---  ---  ---  ---  --- \n"
     ]
    }
   ],
   "source": [
    "print_board(a,b)"
   ]
  },
  {
   "cell_type": "code",
   "execution_count": null,
   "metadata": {
    "collapsed": true
   },
   "outputs": [],
   "source": []
  }
 ],
 "metadata": {
  "kernelspec": {
   "display_name": "Python 3",
   "language": "python",
   "name": "python3"
  },
  "language_info": {
   "codemirror_mode": {
    "name": "ipython",
    "version": 3
   },
   "file_extension": ".py",
   "mimetype": "text/x-python",
   "name": "python",
   "nbconvert_exporter": "python",
   "pygments_lexer": "ipython3",
   "version": "3.6.3"
  }
 },
 "nbformat": 4,
 "nbformat_minor": 2
}
