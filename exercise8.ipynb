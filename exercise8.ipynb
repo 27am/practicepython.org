{
 "cells": [
  {
   "cell_type": "code",
   "execution_count": 4,
   "metadata": {},
   "outputs": [
    {
     "name": "stdout",
     "output_type": "stream",
     "text": [
      "Insert: rock\n",
      "bot plays  scissor\n",
      "You won!\n",
      "Insert: paper\n",
      "bot plays  scissor\n",
      "bot won!\n",
      "Insert: paper\n",
      "bot plays  scissor\n",
      "bot won!\n",
      "Insert: pp\n",
      "bot plays  rock\n",
      "Insert: oii\n",
      "bot plays  rock\n",
      "Insert: quit\n"
     ]
    }
   ],
   "source": [
    "__author__ = \"27am\"\n",
    "import random\n",
    "\n",
    "\n",
    "\n",
    "outcomes = {1:\"rock\", 2:\"paper\", 3:\"scissor\"}\n",
    "\n",
    "while True:\n",
    "    user_input = str(input(\"Play paper, rock or scissor: \"))\n",
    "    \n",
    "    if user_input == \"quit\":\n",
    "        break\n",
    "    \n",
    "    bot = outcomes[random.randint(1,3)]\n",
    "    \n",
    "    print(\"bot plays \", bot )\n",
    "    # 1 is Rock\n",
    "    # 2 is Paper\n",
    "    # 3 is Scissor\n",
    "    \n",
    "    if bot == user_input:\n",
    "        print(\"Even\")\n",
    "    \n",
    "    # bot wins\n",
    "    if bot == \"rock\" and user_input == \"scissor\":\n",
    "        print (\"You lost!\")\n",
    "    if bot == \"scissor\" and user_input == \"paper\":\n",
    "        print(\"You lost!\")\n",
    "    if bot == \"paper\" and user_input == \"rock\":\n",
    "        print(\"You lost!\")\n",
    "        \n",
    "\n",
    "    # player wins\n",
    "    if user_input == \"rock\" and bot == \"scissor\":\n",
    "        print (\"You won!\")\n",
    "    if user_input == \"scissor\" and bot == \"paper\":\n",
    "        print(\"You won!\")\n",
    "    if user_input == \"paper\" and bot == \"rock\":\n",
    "        print(\"You won!\")\n",
    "        \n",
    "    "
   ]
  },
  {
   "cell_type": "code",
   "execution_count": null,
   "metadata": {
    "collapsed": true
   },
   "outputs": [],
   "source": []
  }
 ],
 "metadata": {
  "kernelspec": {
   "display_name": "Python 3",
   "language": "python",
   "name": "python3"
  },
  "language_info": {
   "codemirror_mode": {
    "name": "ipython",
    "version": 3
   },
   "file_extension": ".py",
   "mimetype": "text/x-python",
   "name": "python",
   "nbconvert_exporter": "python",
   "pygments_lexer": "ipython3",
   "version": "3.6.3"
  }
 },
 "nbformat": 4,
 "nbformat_minor": 2
}
