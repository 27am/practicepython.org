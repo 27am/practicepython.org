{
 "cells": [
  {
   "cell_type": "code",
   "execution_count": 98,
   "metadata": {
    "collapsed": true
   },
   "outputs": [],
   "source": [
    "__author__ = \"27am\""
   ]
  },
  {
   "cell_type": "code",
   "execution_count": 99,
   "metadata": {
    "collapsed": true
   },
   "outputs": [],
   "source": [
    "def print_board(status):\n",
    "    \"\"\"\n",
    "    recives a bidimensional list of values and prints a board\n",
    "    \"\"\"\n",
    "        \n",
    "    dividing_line = \"  --- --- ---  \"\n",
    "    \n",
    "    print(dividing_line)\n",
    "    print(\" | {} | {} | {} |\".format(*status[0:3]))\n",
    "    print(dividing_line)\n",
    "    print(\" | {} | {} | {} |\".format(*status[3:6]))\n",
    "    print(dividing_line)\n",
    "    print(\" | {} | {} | {} |\".format(*status[6:9]))\n",
    "    print(dividing_line)"
   ]
  },
  {
   "cell_type": "code",
   "execution_count": 100,
   "metadata": {
    "collapsed": true
   },
   "outputs": [],
   "source": [
    "game = [[\" \", \" \", \" \"],\n",
    "        [\" \", \" \", \" \"],\n",
    "        [\" \", \" \", \" \"]]"
   ]
  },
  {
   "cell_type": "code",
   "execution_count": 101,
   "metadata": {},
   "outputs": [
    {
     "name": "stdout",
     "output_type": "stream",
     "text": [
      "  --- --- ---  \n",
      " |   |   |   |\n",
      "  --- --- ---  \n",
      " |   |   |   |\n",
      "  --- --- ---  \n",
      " |   |   |   |\n",
      "  --- --- ---  \n",
      "Insert comma separated coordinates. Q to exit: 1,1\n",
      "  --- --- ---  \n",
      " | X |   |   |\n",
      "  --- --- ---  \n",
      " |   |   |   |\n",
      "  --- --- ---  \n",
      " |   |   |   |\n",
      "  --- --- ---  \n",
      "Insert comma separated coordinates. Q to exit: 2,2\n",
      "  --- --- ---  \n",
      " | X |   |   |\n",
      "  --- --- ---  \n",
      " |   | O |   |\n",
      "  --- --- ---  \n",
      " |   |   |   |\n",
      "  --- --- ---  \n",
      "Insert comma separated coordinates. Q to exit: 2,1\n",
      "  --- --- ---  \n",
      " | X |   |   |\n",
      "  --- --- ---  \n",
      " | X | O |   |\n",
      "  --- --- ---  \n",
      " |   |   |   |\n",
      "  --- --- ---  \n",
      "Insert comma separated coordinates. Q to exit: \n",
      "Retry\n",
      "  --- --- ---  \n",
      " | X |   |   |\n",
      "  --- --- ---  \n",
      " | X | O |   |\n",
      "  --- --- ---  \n",
      " |   |   |   |\n",
      "  --- --- ---  \n",
      "Insert comma separated coordinates. Q to exit: \n",
      "Retry\n",
      "  --- --- ---  \n",
      " | X |   |   |\n",
      "  --- --- ---  \n",
      " | X | O |   |\n",
      "  --- --- ---  \n",
      " |   |   |   |\n",
      "  --- --- ---  \n",
      "Insert comma separated coordinates. Q to exit: 3,1\n",
      "  --- --- ---  \n",
      " | X |   |   |\n",
      "  --- --- ---  \n",
      " | X | O |   |\n",
      "  --- --- ---  \n",
      " | O |   |   |\n",
      "  --- --- ---  \n",
      "Insert comma separated coordinates. Q to exit: 1,3\n",
      "  --- --- ---  \n",
      " | X |   | X |\n",
      "  --- --- ---  \n",
      " | X | O |   |\n",
      "  --- --- ---  \n",
      " | O |   |   |\n",
      "  --- --- ---  \n",
      "Insert comma separated coordinates. Q to exit: q\n",
      "Thank for playing, see you soon\n"
     ]
    }
   ],
   "source": [
    "playing = True\n",
    "\n",
    "while playing:\n",
    "    \n",
    "    unrolled = [elem for row in game for elem in row]\n",
    "    counter = unrolled.count(\"X\") + unrolled.count(\"O\")\n",
    "    \n",
    "    print_board(unrolled)\n",
    "    \n",
    "    try:\n",
    "        command = str(input(\"Insert comma separated coordinates. Q to exit: \"))\n",
    "\n",
    "        if command in (\"Q\", \"q\", \"exit\", \"end\", \"finish\", \"bye\"):\n",
    "            print(\"Thank for playing, see you soon\")\n",
    "            break\n",
    "        else:\n",
    "            x,y = command.split(\",\")\n",
    "            x, y = int(x) - 1, int(y) -1\n",
    "\n",
    "            if game[x][y] == \" \":\n",
    "\n",
    "                if counter%2 == 0:\n",
    "                    game[x][y] = \"X\"\n",
    "                else:\n",
    "                    game[x][y] = \"O\"\n",
    "            else:\n",
    "                print(\"This spot is already taken\")\n",
    "                \n",
    "    except IndexError:\n",
    "        print(\"The board is not big enough!\")\n",
    "    except ValueError:\n",
    "        print(\"Retry\")\n",
    "    "
   ]
  },
  {
   "cell_type": "code",
   "execution_count": null,
   "metadata": {
    "collapsed": true
   },
   "outputs": [],
   "source": []
  }
 ],
 "metadata": {
  "kernelspec": {
   "display_name": "Python 3",
   "language": "python",
   "name": "python3"
  },
  "language_info": {
   "codemirror_mode": {
    "name": "ipython",
    "version": 3
   },
   "file_extension": ".py",
   "mimetype": "text/x-python",
   "name": "python",
   "nbconvert_exporter": "python",
   "pygments_lexer": "ipython3",
   "version": "3.6.3"
  }
 },
 "nbformat": 4,
 "nbformat_minor": 2
}
