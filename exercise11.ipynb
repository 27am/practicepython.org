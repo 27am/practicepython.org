{
 "cells": [
  {
   "cell_type": "markdown",
   "metadata": {},
   "source": [
    "\n",
    "Ask the user for a number and determine whether the number is prime or not. (For those who have forgotten, a prime number is a number that has no divisors.)\n"
   ]
  },
  {
   "cell_type": "code",
   "execution_count": 1,
   "metadata": {
    "collapsed": true
   },
   "outputs": [],
   "source": [
    "__author__ = \"27am\""
   ]
  },
  {
   "cell_type": "code",
   "execution_count": 2,
   "metadata": {
    "collapsed": true
   },
   "outputs": [],
   "source": [
    "import time"
   ]
  },
  {
   "cell_type": "code",
   "execution_count": 3,
   "metadata": {
    "collapsed": true
   },
   "outputs": [],
   "source": [
    "def isprime(number):\n",
    "    \n",
    "    start = time.time()\n",
    "    \n",
    "    prime = True\n",
    "    \n",
    "    for i in range(2, number):\n",
    "        if number%i == 0:\n",
    "            prime = False\n",
    "            \n",
    "    end = time.time()\n",
    "    print(end - start)\n",
    "    \n",
    "    \n",
    "    return prime"
   ]
  },
  {
   "cell_type": "code",
   "execution_count": 4,
   "metadata": {},
   "outputs": [
    {
     "name": "stdout",
     "output_type": "stream",
     "text": [
      "1521545064.100376\n"
     ]
    }
   ],
   "source": [
    "print(time.time())"
   ]
  },
  {
   "cell_type": "code",
   "execution_count": 10,
   "metadata": {
    "collapsed": true
   },
   "outputs": [],
   "source": [
    "def aks_isprime(n):\n",
    "    \"\"\"Returns True if n is prime.\"\"\"\n",
    "    \n",
    "    start = time.time()\n",
    "    \n",
    "    try: \n",
    "    \n",
    "        if n == 2:\n",
    "            return True\n",
    "        if n == 3:\n",
    "            return True\n",
    "        if n % 2 == 0:\n",
    "            return False\n",
    "        if n % 3 == 0:\n",
    "            return False\n",
    "\n",
    "        i = 5\n",
    "        w = 2\n",
    "\n",
    "        while i * i <= n:\n",
    "            if n % i == 0:\n",
    "                return False\n",
    "\n",
    "            i += w\n",
    "            w = 6 - w\n",
    "            \n",
    "            \n",
    "        return True\n",
    "    \n",
    "    finally:\n",
    "        end = time.time()\n",
    "        print(end - start)\n",
    "    \n",
    "    "
   ]
  },
  {
   "cell_type": "code",
   "execution_count": 14,
   "metadata": {},
   "outputs": [
    {
     "name": "stdout",
     "output_type": "stream",
     "text": [
      "Insert a number to check: 956435753\n",
      "69.52258658409119\n",
      "Number is not Prime\n"
     ]
    }
   ],
   "source": [
    "given_number = int(input(\"Insert a number to check: \"))\n",
    "\n",
    "print(\"NUmber is Prime\" if isprime(given_number) else \"Number is not Prime\")"
   ]
  },
  {
   "cell_type": "code",
   "execution_count": 18,
   "metadata": {},
   "outputs": [
    {
     "name": "stdout",
     "output_type": "stream",
     "text": [
      "Insert a number to check: 2374613875634897501937849817678532164619723498294765748491\n",
      "0.0\n",
      "Number is not Prime\n"
     ]
    }
   ],
   "source": [
    "given_number = int(input(\"Insert a number to check: \"))\n",
    "\n",
    "print(\"NUmber is Prime\" if aks_isprime(given_number) else \"Number is not Prime\")"
   ]
  },
  {
   "cell_type": "code",
   "execution_count": null,
   "metadata": {
    "collapsed": true
   },
   "outputs": [],
   "source": []
  }
 ],
 "metadata": {
  "kernelspec": {
   "display_name": "Python 3",
   "language": "python",
   "name": "python3"
  },
  "language_info": {
   "codemirror_mode": {
    "name": "ipython",
    "version": 3
   },
   "file_extension": ".py",
   "mimetype": "text/x-python",
   "name": "python",
   "nbconvert_exporter": "python",
   "pygments_lexer": "ipython3",
   "version": "3.6.3"
  }
 },
 "nbformat": 4,
 "nbformat_minor": 2
}
