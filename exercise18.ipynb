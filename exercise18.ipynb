{
 "cells": [
  {
   "cell_type": "markdown",
   "metadata": {},
   "source": [
    "Create a program that will play the “cows and bulls” game with the user. The game works like this:\n",
    "\n",
    "Randomly generate a 4-digit number. Ask the user to guess a 4-digit number. For every digit that the user guessed correctly in the correct place, they have a “cow”. For every digit the user guessed correctly in the wrong place is a “bull.” Every time the user makes a guess, tell them how many “cows” and “bulls” they have. Once the user guesses the correct number, the game is over. Keep track of the number of guesses the user makes throughout teh game and tell the user at the end."
   ]
  },
  {
   "cell_type": "code",
   "execution_count": 17,
   "metadata": {
    "collapsed": true
   },
   "outputs": [],
   "source": [
    "import random"
   ]
  },
  {
   "cell_type": "code",
   "execution_count": 18,
   "metadata": {
    "collapsed": true
   },
   "outputs": [],
   "source": [
    "extraction = [random.randint(0,9) for i in range(4)]"
   ]
  },
  {
   "cell_type": "code",
   "execution_count": 19,
   "metadata": {},
   "outputs": [],
   "source": [
    "def play():\n",
    "    \n",
    "    tries = 0\n",
    "    guessed_cows = 0\n",
    "\n",
    "    while guessed_cows < 4: \n",
    "\n",
    "        guess = []\n",
    "\n",
    "        while len(guess) != 4:\n",
    "            guess = [int(char) for char in input(\"Insert your 4 number guess, or quit: \") if char != \"quit\"]\n",
    "            \n",
    "            if guess == []:\n",
    "                print(\"Thanks\")\n",
    "                return\n",
    "\n",
    "        guessed_cows = evalute(guess)\n",
    "        \n",
    "        tries += 1\n",
    "\n",
    "    print(\"You won! after %s tries\" %tries)"
   ]
  },
  {
   "cell_type": "code",
   "execution_count": 20,
   "metadata": {
    "collapsed": true
   },
   "outputs": [],
   "source": [
    "def evalute(guess):\n",
    "    cows = 0\n",
    "    bulls = 0\n",
    "\n",
    "    for a,b in zip(guess, extraction):\n",
    "\n",
    "\n",
    "        if a == b:\n",
    "            cows += 1\n",
    "\n",
    "        elif a in extraction:\n",
    "            bulls += 1\n",
    "\n",
    "\n",
    "    print(\"%s cows, %s bulls\" %(cows, bulls))\n",
    "    \n",
    "    return int(cows)"
   ]
  },
  {
   "cell_type": "code",
   "execution_count": 21,
   "metadata": {
    "collapsed": true
   },
   "outputs": [],
   "source": [
    "def main():\n",
    "    play()"
   ]
  },
  {
   "cell_type": "code",
   "execution_count": 22,
   "metadata": {},
   "outputs": [
    {
     "name": "stdout",
     "output_type": "stream",
     "text": [
      "Insert your 4 number guess, or quit: 1234\n",
      "0 cows, 1 bulls\n",
      "Insert your 4 number guess, or quit: 0987\n",
      "0 cows, 2 bulls\n",
      "Insert your 4 number guess, or quit: 7654\n",
      "1 cows, 1 bulls\n",
      "Insert your 4 number guess, or quit: 7456\n",
      "2 cows, 0 bulls\n",
      "Insert your 4 number guess, or quit: 7412\n",
      "2 cows, 0 bulls\n",
      "Insert your 4 number guess, or quit: 7489\n",
      "1 cows, 1 bulls\n",
      "Insert your 4 number guess, or quit: 0410\n",
      "1 cows, 0 bulls\n",
      "Insert your 4 number guess, or quit: 0010\n",
      "1 cows, 0 bulls\n",
      "Insert your 4 number guess, or quit: 0012\n",
      "1 cows, 0 bulls\n",
      "Insert your 4 number guess, or quit: 7010\n",
      "2 cows, 0 bulls\n",
      "Insert your 4 number guess, or quit: 7518\n",
      "2 cows, 1 bulls\n",
      "Insert your 4 number guess, or quit: 7815\n",
      "3 cows, 0 bulls\n",
      "Insert your 4 number guess, or quit: 7215\n",
      "2 cows, 0 bulls\n",
      "Insert your 4 number guess, or quit: 7111\n",
      "2 cows, 2 bulls\n",
      "Insert your 4 number guess, or quit: 7151\n",
      "1 cows, 2 bulls\n",
      "Insert your 4 number guess, or quit: 0815\n",
      "2 cows, 0 bulls\n",
      "Insert your 4 number guess, or quit: 7015\n",
      "2 cows, 0 bulls\n",
      "Insert your 4 number guess, or quit: 7819\n",
      "3 cows, 0 bulls\n",
      "Insert your 4 number guess, or quit: 7816\n",
      "4 cows, 0 bulls\n",
      "You won! after 19 tries\n"
     ]
    }
   ],
   "source": [
    "if __name__ == \"__main__\":\n",
    "    main()"
   ]
  },
  {
   "cell_type": "code",
   "execution_count": null,
   "metadata": {
    "collapsed": true
   },
   "outputs": [],
   "source": []
  }
 ],
 "metadata": {
  "kernelspec": {
   "display_name": "Python 3",
   "language": "python",
   "name": "python3"
  },
  "language_info": {
   "codemirror_mode": {
    "name": "ipython",
    "version": 3
   },
   "file_extension": ".py",
   "mimetype": "text/x-python",
   "name": "python",
   "nbconvert_exporter": "python",
   "pygments_lexer": "ipython3",
   "version": "3.6.3"
  }
 },
 "nbformat": 4,
 "nbformat_minor": 2
}
