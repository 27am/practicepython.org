{
 "cells": [
  {
   "cell_type": "markdown",
   "metadata": {},
   "source": [
    "Given a .txt file that has a list of a bunch of names, count how many of each name there are in the file, and print out the results to the screen."
   ]
  },
  {
   "cell_type": "markdown",
   "metadata": {},
   "source": [
    "Extra:\n",
    "\n",
    "Instead of using the .txt file from above (or instead of, if you want the challenge), take this .txt file, and count how many of each “category” of each image there are. This text file is actually a list of files corresponding to the SUN database scene recognition database, and lists the file directory hierarchy for the images. Once you take a look at the first line or two of the file, it will be clear which part represents the scene category. To do this, you’re going to have to remember a bit about string parsing in Python 3. "
   ]
  },
  {
   "cell_type": "code",
   "execution_count": 126,
   "metadata": {},
   "outputs": [],
   "source": [
    "try:\n",
    "    with open(\"names_ex22.txt\", \"r\") as mfile:\n",
    "        all_text = mfile.read()\n",
    "except FileNotFoundError:\n",
    "    print(\"File not found\")"
   ]
  },
  {
   "cell_type": "code",
   "execution_count": 127,
   "metadata": {},
   "outputs": [
    {
     "data": {
      "text/plain": [
       "'Darth\\nLuke\\nDarth\\nLea\\nDarth\\nLea\\nLea\\nLuke\\nDarth\\nLea\\nDarth\\nDarth\\nLea\\nLea\\nDarth\\nLea\\nDarth\\nLea\\nLuke\\nDarth\\nLea\\nLea\\nDarth\\nLea\\nDarth\\nDarth\\nLea\\nLea\\nLuke\\nLuke\\nLea\\nDarth\\nDarth\\nLuke\\nLea\\nDarth\\nDarth\\nLea\\nLea\\nLea\\nLea\\nLea\\nLuke\\nDarth\\nLuke\\nLea\\nLea\\nLea\\nLea\\nLuke\\nLea\\nDarth\\nLea\\nLea\\nDarth\\nLea\\nLea\\nDarth\\nDarth\\nLea\\nDarth\\nLea\\nDarth\\nLuke\\nLea\\nLuke\\nDarth\\nDarth\\nLuke\\nDarth\\nLea\\nDarth\\nLea\\nLuke\\nLea\\nLea\\nLea\\nLea\\nLea\\nDarth\\nLea\\nLea\\nLea\\nLea\\nLea\\nLea\\nLea\\nLuke\\nLea\\nLea\\nLea\\nLea\\nLea\\nLea\\nDarth\\nLuke\\nDarth\\nLea\\nLea\\nDarth'"
      ]
     },
     "execution_count": 127,
     "metadata": {},
     "output_type": "execute_result"
    }
   ],
   "source": [
    "all_text"
   ]
  },
  {
   "cell_type": "code",
   "execution_count": 128,
   "metadata": {
    "collapsed": true
   },
   "outputs": [],
   "source": [
    "all_text = all_text.splitlines()"
   ]
  },
  {
   "cell_type": "code",
   "execution_count": 129,
   "metadata": {},
   "outputs": [
    {
     "data": {
      "text/plain": [
       "['Luke', 'Lea', 'Darth']"
      ]
     },
     "execution_count": 129,
     "metadata": {},
     "output_type": "execute_result"
    }
   ],
   "source": [
    "list(set(all_text))"
   ]
  },
  {
   "cell_type": "code",
   "execution_count": 130,
   "metadata": {
    "collapsed": true
   },
   "outputs": [],
   "source": [
    "mdict = dict([(i, 0) for i in list(set(all_text))])"
   ]
  },
  {
   "cell_type": "code",
   "execution_count": 131,
   "metadata": {},
   "outputs": [
    {
     "data": {
      "text/plain": [
       "{'Darth': 0, 'Lea': 0, 'Luke': 0}"
      ]
     },
     "execution_count": 131,
     "metadata": {},
     "output_type": "execute_result"
    }
   ],
   "source": [
    "mdict"
   ]
  },
  {
   "cell_type": "code",
   "execution_count": 132,
   "metadata": {
    "scrolled": false
   },
   "outputs": [],
   "source": [
    "# O(N)\n",
    "\n",
    "for i in a:\n",
    "    mdict[i] += 1"
   ]
  },
  {
   "cell_type": "code",
   "execution_count": 133,
   "metadata": {},
   "outputs": [
    {
     "data": {
      "text/plain": [
       "{'Darth': 31, 'Lea': 54, 'Luke': 15}"
      ]
     },
     "execution_count": 133,
     "metadata": {},
     "output_type": "execute_result"
    }
   ],
   "source": [
    "mdict"
   ]
  },
  {
   "cell_type": "markdown",
   "metadata": {},
   "source": [
    "### Extra"
   ]
  },
  {
   "cell_type": "code",
   "execution_count": 114,
   "metadata": {
    "collapsed": true
   },
   "outputs": [],
   "source": [
    "try:\n",
    "    with open(\"training_ex22.txt\", \"r\") as tf:\n",
    "        atext = tf.read()\n",
    "except FileNotFoundError:\n",
    "    print(\"File not found\")\n",
    "    \n",
    "atext = atext.splitlines()"
   ]
  },
  {
   "cell_type": "code",
   "execution_count": 115,
   "metadata": {},
   "outputs": [
    {
     "data": {
      "text/plain": [
       "['/a/abbey/sun_aqswjsnjlrfzzhiz.jpg',\n",
       " '/a/abbey/sun_aaoktempcmudsvna.jpg',\n",
       " '/a/abbey/sun_arxtvfkkycnqhfkj.jpg',\n",
       " '/a/abbey/sun_axcfsjajikefppey.jpg',\n",
       " '/a/abbey/sun_arsnqaftitwcpsog.jpg']"
      ]
     },
     "execution_count": 115,
     "metadata": {},
     "output_type": "execute_result"
    }
   ],
   "source": [
    "atext[:5]   # print just hte 5 elements"
   ]
  },
  {
   "cell_type": "code",
   "execution_count": 116,
   "metadata": {},
   "outputs": [
    {
     "name": "stdout",
     "output_type": "stream",
     "text": [
      "['abbey', 'airplane_cabin', 'airport_terminal', 'alley', 'amphitheater', 'amusement_arcade', 'amusement_park', 'anechoic_chamber', 'aquarium', 'aqueduct', 'arch', 'archive', 'art_gallery', 'art_school', 'art_studio', 'assembly_line', 'attic', 'auditorium', 'auto_factory', 'backseat', 'badlands', 'baggage_claim', 'ball_pit', 'ballroom', 'bamboo_forest', 'banquet_hall', 'bar', 'barn', 'barndoor', 'barrel_storage', 'baseball', 'baseball_field', 'basement', 'basilica', 'bathroom', 'batters_box', 'bayou', 'beach', 'beauty_salon', 'bedroom', 'berth', 'biology_laboratory', 'block', 'boardwalk', 'boat_deck', 'boathouse', 'bookstore', 'botanical_garden', 'bottle_storage', 'bowling_alley', 'boxing_ring', 'bridge', 'broadleaf', 'building_facade', 'bullring', 'burial_chamber', 'bus_interior', 'butchers_shop', 'butte', 'cafeteria', 'campsite', 'campus', 'candy_store', 'canyon', 'carrousel', 'castle', 'catacomb', 'cemetery', 'chalet', 'cheese_factory', 'chemistry_lab', 'childs_room', 'classroom', 'clean_room', 'cliff', 'closet', 'clothing_store', 'coast', 'cockpit', 'coffee_shop', 'computer_room', 'conference_center', 'conference_room', 'construction_site', 'control_room', 'coral_reef', 'corn_field', 'corral', 'corridor', 'cottage_garden', 'courthouse', 'courtroom', 'courtyard', 'creek', 'crevasse', 'crosswalk', 'cultivated', 'dam', 'delicatessen', 'dentists_office', 'dining_car', 'dining_room', 'discotheque', 'dock', 'door', 'dorm_room', 'driveway', 'drugstore', 'east_asia', 'electrical_substation', 'elevator_shaft', 'engine_room', 'establishment', 'excavation', 'exterior', 'fairway', 'fan', 'fastfood_restaurant', 'fire_escape', 'fire_station', 'fishpond', 'food_court', 'football', 'forest_path', 'forest_road', 'formal_garden', 'fountain', 'frontseat', 'galley', 'game_room', 'garbage_dump', 'gas_station', 'gift_shop', 'golf_course', 'harbor', 'hayfield', 'heliport', 'herb_garden', 'highway', 'hill', 'home', 'home_office', 'hospital', 'hospital_room', 'hot_spring', 'hotel_room', 'house', 'ice_cream_parlor', 'ice_floe', 'ice_shelf', 'iceberg', 'igloo', 'indoor', 'indoor_procenium', 'indoor_seats', 'industrial_area', 'interior', 'islet', 'jail_cell', 'jewelry_shop', 'kasbah', 'kindergarden_classroom', 'kitchen', 'kitchenette', 'landfill', 'landing_deck', 'laundromat', 'lecture_room', 'lift_bridge', 'lighthouse', 'limousine_interior', 'living_room', 'lobby', 'lock_chamber', 'locker_room', 'mansion', 'manufactured_home', 'marsh', 'martial_arts_gym', 'mausoleum', 'medina', 'motel', 'mountain', 'mountain_snowy', 'music_store', 'music_studio', 'natural', 'needleleaf', 'nursery', 'oast_house', 'ocean', 'office', 'office_building', 'oilrig', 'operating_room', 'orchard', 'outdoor', 'pagoda', 'palace', 'pantry', 'park', 'parking_lot', 'parlor', 'pasture', 'patio', 'pavilion', 'pharmacy', 'phone_booth', 'physics_laboratory', 'picnic_area', 'platform', 'playground', 'playroom', 'plaza', 'plunge', 'pond', 'promenade_deck', 'public', 'pulpit', 'putting_green', 'racecourse', 'raceway', 'raft', 'railroad_track', 'rainforest', 'reception', 'recreation_room', 'residential_neighborhood', 'restaurant', 'restaurant_kitchen', 'restaurant_patio', 'rice_paddy', 'riding_arena', 'river', 'rock_arch', 'rope_bridge', 'ruin', 'runway', 'sand', 'sandbar', 'sandbox', 'sauna', 'schoolhouse', 'sea_cliff', 'server_room', 'shed', 'shoe_shop', 'shop', 'shopfront', 'shower', 'skatepark', 'ski_lodge', 'ski_resort', 'ski_slope', 'sky', 'skyscraper', 'slum', 'snowfield', 'south_asia', 'squash_court', 'stable', 'staircase', 'street', 'subway_interior', 'supermarket', 'sushi_bar', 'swamp', 'television_studio', 'thriftshop', 'throne_room', 'ticket_booth', 'toll_plaza', 'topiary_garden', 'tower', 'toyshop', 'train_railway', 'tree_farm', 'tree_house', 'trench', 'urban', 'utility_room', 'valley', 'van_interior', 'vegetable_garden', 'vegetation', 'vehicle', 'veranda', 'veterinarians_office', 'viaduct', 'videostore', 'village', 'vineyard', 'volcano', 'waiting_room', 'water', 'water_tower', 'watering_hole', 'wave', 'wet_bar', 'wheat_field', 'wild', 'wind_farm', 'windmill', 'yard', 'youth_hostel']\n"
     ]
    }
   ],
   "source": [
    "mset = set()\n",
    "all_words = []\n",
    "\n",
    "for w in atext:\n",
    "    mword = w.split(\"/\")[-2]   # split every line and take only the name of the folder where the jpg is\n",
    "    mset.add(mword)\n",
    "    \n",
    "    all_words.append(w.split(\"/\")[-2])\n",
    "\n",
    "mset = list(mset)\n",
    "mset.sort()\n",
    "print(mset)"
   ]
  },
  {
   "cell_type": "code",
   "execution_count": 117,
   "metadata": {
    "collapsed": true
   },
   "outputs": [],
   "source": [
    "mdict = dict([(i,0) for i in mset])"
   ]
  },
  {
   "cell_type": "code",
   "execution_count": 118,
   "metadata": {},
   "outputs": [],
   "source": [
    "for i in all_words:\n",
    "    mdict[i] += 1 "
   ]
  },
  {
   "cell_type": "code",
   "execution_count": 125,
   "metadata": {},
   "outputs": [
    {
     "data": {
      "text/plain": [
       "{'abbey': 50,\n",
       " 'airplane_cabin': 50,\n",
       " 'airport_terminal': 50,\n",
       " 'alley': 50,\n",
       " 'amphitheater': 50,\n",
       " 'amusement_arcade': 50,\n",
       " 'amusement_park': 50,\n",
       " 'anechoic_chamber': 50,\n",
       " 'aquarium': 50,\n",
       " 'aqueduct': 50,\n",
       " 'arch': 50,\n",
       " 'archive': 50,\n",
       " 'art_gallery': 50,\n",
       " 'art_school': 50,\n",
       " 'art_studio': 50,\n",
       " 'assembly_line': 50,\n",
       " 'attic': 50,\n",
       " 'auditorium': 50,\n",
       " 'auto_factory': 50,\n",
       " 'backseat': 50,\n",
       " 'badlands': 50,\n",
       " 'baggage_claim': 50,\n",
       " 'ball_pit': 50,\n",
       " 'ballroom': 50,\n",
       " 'bamboo_forest': 50,\n",
       " 'banquet_hall': 50,\n",
       " 'bar': 50,\n",
       " 'barn': 50,\n",
       " 'barndoor': 50,\n",
       " 'barrel_storage': 50,\n",
       " 'baseball': 50,\n",
       " 'baseball_field': 50,\n",
       " 'basement': 50,\n",
       " 'basilica': 50,\n",
       " 'bathroom': 50,\n",
       " 'batters_box': 50,\n",
       " 'bayou': 50,\n",
       " 'beach': 50,\n",
       " 'beauty_salon': 50,\n",
       " 'bedroom': 50,\n",
       " 'berth': 50,\n",
       " 'biology_laboratory': 50,\n",
       " 'block': 50,\n",
       " 'boardwalk': 50,\n",
       " 'boat_deck': 50,\n",
       " 'boathouse': 50,\n",
       " 'bookstore': 50,\n",
       " 'botanical_garden': 50,\n",
       " 'bottle_storage': 50,\n",
       " 'bowling_alley': 50,\n",
       " 'boxing_ring': 50,\n",
       " 'bridge': 50,\n",
       " 'broadleaf': 50,\n",
       " 'building_facade': 50,\n",
       " 'bullring': 50,\n",
       " 'burial_chamber': 50,\n",
       " 'bus_interior': 50,\n",
       " 'butchers_shop': 50,\n",
       " 'butte': 50,\n",
       " 'cafeteria': 50,\n",
       " 'campsite': 50,\n",
       " 'campus': 50,\n",
       " 'candy_store': 50,\n",
       " 'canyon': 50,\n",
       " 'carrousel': 50,\n",
       " 'castle': 50,\n",
       " 'catacomb': 50,\n",
       " 'cemetery': 50,\n",
       " 'chalet': 50,\n",
       " 'cheese_factory': 50,\n",
       " 'chemistry_lab': 50,\n",
       " 'childs_room': 50,\n",
       " 'classroom': 50,\n",
       " 'clean_room': 50,\n",
       " 'cliff': 50,\n",
       " 'closet': 50,\n",
       " 'clothing_store': 50,\n",
       " 'coast': 50,\n",
       " 'cockpit': 50,\n",
       " 'coffee_shop': 50,\n",
       " 'computer_room': 50,\n",
       " 'conference_center': 50,\n",
       " 'conference_room': 50,\n",
       " 'construction_site': 50,\n",
       " 'control_room': 50,\n",
       " 'coral_reef': 50,\n",
       " 'corn_field': 50,\n",
       " 'corral': 50,\n",
       " 'corridor': 50,\n",
       " 'cottage_garden': 50,\n",
       " 'courthouse': 50,\n",
       " 'courtroom': 50,\n",
       " 'courtyard': 50,\n",
       " 'creek': 50,\n",
       " 'crevasse': 50,\n",
       " 'crosswalk': 50,\n",
       " 'cultivated': 50,\n",
       " 'dam': 50,\n",
       " 'delicatessen': 50,\n",
       " 'dentists_office': 50,\n",
       " 'dining_car': 50,\n",
       " 'dining_room': 50,\n",
       " 'discotheque': 50,\n",
       " 'dock': 50,\n",
       " 'door': 50,\n",
       " 'dorm_room': 50,\n",
       " 'driveway': 50,\n",
       " 'drugstore': 50,\n",
       " 'east_asia': 50,\n",
       " 'electrical_substation': 50,\n",
       " 'elevator_shaft': 50,\n",
       " 'engine_room': 50,\n",
       " 'establishment': 50,\n",
       " 'excavation': 50,\n",
       " 'exterior': 150,\n",
       " 'fairway': 50,\n",
       " 'fan': 50,\n",
       " 'fastfood_restaurant': 50,\n",
       " 'fire_escape': 50,\n",
       " 'fire_station': 50,\n",
       " 'fishpond': 50,\n",
       " 'food_court': 50,\n",
       " 'football': 50,\n",
       " 'forest_path': 50,\n",
       " 'forest_road': 50,\n",
       " 'formal_garden': 50,\n",
       " 'fountain': 50,\n",
       " 'frontseat': 50,\n",
       " 'galley': 50,\n",
       " 'game_room': 50,\n",
       " 'garbage_dump': 50,\n",
       " 'gas_station': 50,\n",
       " 'gift_shop': 50,\n",
       " 'golf_course': 50,\n",
       " 'harbor': 50,\n",
       " 'hayfield': 50,\n",
       " 'heliport': 50,\n",
       " 'herb_garden': 50,\n",
       " 'highway': 50,\n",
       " 'hill': 50,\n",
       " 'home': 100,\n",
       " 'home_office': 50,\n",
       " 'hospital': 50,\n",
       " 'hospital_room': 50,\n",
       " 'hot_spring': 50,\n",
       " 'hotel_room': 50,\n",
       " 'house': 50,\n",
       " 'ice_cream_parlor': 50,\n",
       " 'ice_floe': 50,\n",
       " 'ice_shelf': 50,\n",
       " 'iceberg': 50,\n",
       " 'igloo': 50,\n",
       " 'indoor': 2200,\n",
       " 'indoor_procenium': 50,\n",
       " 'indoor_seats': 50,\n",
       " 'industrial_area': 50,\n",
       " 'interior': 100,\n",
       " 'islet': 50,\n",
       " 'jail_cell': 50,\n",
       " 'jewelry_shop': 50,\n",
       " 'kasbah': 50,\n",
       " 'kindergarden_classroom': 50,\n",
       " 'kitchen': 50,\n",
       " 'kitchenette': 50,\n",
       " 'landfill': 50,\n",
       " 'landing_deck': 50,\n",
       " 'laundromat': 50,\n",
       " 'lecture_room': 50,\n",
       " 'lift_bridge': 50,\n",
       " 'lighthouse': 50,\n",
       " 'limousine_interior': 50,\n",
       " 'living_room': 50,\n",
       " 'lobby': 50,\n",
       " 'lock_chamber': 50,\n",
       " 'locker_room': 50,\n",
       " 'mansion': 50,\n",
       " 'manufactured_home': 50,\n",
       " 'marsh': 50,\n",
       " 'martial_arts_gym': 50,\n",
       " 'mausoleum': 50,\n",
       " 'medina': 50,\n",
       " 'motel': 50,\n",
       " 'mountain': 50,\n",
       " 'mountain_snowy': 50,\n",
       " 'music_store': 50,\n",
       " 'music_studio': 50,\n",
       " 'natural': 100,\n",
       " 'needleleaf': 50,\n",
       " 'nursery': 50,\n",
       " 'oast_house': 50,\n",
       " 'ocean': 50,\n",
       " 'office': 100,\n",
       " 'office_building': 50,\n",
       " 'oilrig': 50,\n",
       " 'operating_room': 50,\n",
       " 'orchard': 50,\n",
       " 'outdoor': 2150,\n",
       " 'pagoda': 50,\n",
       " 'palace': 50,\n",
       " 'pantry': 50,\n",
       " 'park': 50,\n",
       " 'parking_lot': 50,\n",
       " 'parlor': 50,\n",
       " 'pasture': 50,\n",
       " 'patio': 50,\n",
       " 'pavilion': 50,\n",
       " 'pharmacy': 50,\n",
       " 'phone_booth': 50,\n",
       " 'physics_laboratory': 50,\n",
       " 'picnic_area': 50,\n",
       " 'platform': 100,\n",
       " 'playground': 50,\n",
       " 'playroom': 50,\n",
       " 'plaza': 50,\n",
       " 'plunge': 50,\n",
       " 'pond': 50,\n",
       " 'promenade_deck': 50,\n",
       " 'public': 50,\n",
       " 'pulpit': 50,\n",
       " 'putting_green': 50,\n",
       " 'racecourse': 50,\n",
       " 'raceway': 50,\n",
       " 'raft': 50,\n",
       " 'railroad_track': 50,\n",
       " 'rainforest': 50,\n",
       " 'reception': 50,\n",
       " 'recreation_room': 50,\n",
       " 'residential_neighborhood': 50,\n",
       " 'restaurant': 50,\n",
       " 'restaurant_kitchen': 50,\n",
       " 'restaurant_patio': 50,\n",
       " 'rice_paddy': 50,\n",
       " 'riding_arena': 50,\n",
       " 'river': 50,\n",
       " 'rock_arch': 50,\n",
       " 'rope_bridge': 50,\n",
       " 'ruin': 50,\n",
       " 'runway': 50,\n",
       " 'sand': 50,\n",
       " 'sandbar': 50,\n",
       " 'sandbox': 50,\n",
       " 'sauna': 50,\n",
       " 'schoolhouse': 50,\n",
       " 'sea_cliff': 50,\n",
       " 'server_room': 50,\n",
       " 'shed': 50,\n",
       " 'shoe_shop': 50,\n",
       " 'shop': 50,\n",
       " 'shopfront': 50,\n",
       " 'shower': 50,\n",
       " 'skatepark': 50,\n",
       " 'ski_lodge': 50,\n",
       " 'ski_resort': 50,\n",
       " 'ski_slope': 50,\n",
       " 'sky': 50,\n",
       " 'skyscraper': 50,\n",
       " 'slum': 50,\n",
       " 'snowfield': 50,\n",
       " 'south_asia': 50,\n",
       " 'squash_court': 50,\n",
       " 'stable': 50,\n",
       " 'staircase': 50,\n",
       " 'street': 50,\n",
       " 'subway_interior': 50,\n",
       " 'supermarket': 50,\n",
       " 'sushi_bar': 50,\n",
       " 'swamp': 50,\n",
       " 'television_studio': 50,\n",
       " 'thriftshop': 50,\n",
       " 'throne_room': 50,\n",
       " 'ticket_booth': 50,\n",
       " 'toll_plaza': 50,\n",
       " 'topiary_garden': 50,\n",
       " 'tower': 50,\n",
       " 'toyshop': 50,\n",
       " 'train_railway': 50,\n",
       " 'tree_farm': 50,\n",
       " 'tree_house': 50,\n",
       " 'trench': 50,\n",
       " 'urban': 50,\n",
       " 'utility_room': 50,\n",
       " 'valley': 50,\n",
       " 'van_interior': 50,\n",
       " 'vegetable_garden': 50,\n",
       " 'vegetation': 50,\n",
       " 'vehicle': 50,\n",
       " 'veranda': 50,\n",
       " 'veterinarians_office': 50,\n",
       " 'viaduct': 50,\n",
       " 'videostore': 50,\n",
       " 'village': 50,\n",
       " 'vineyard': 50,\n",
       " 'volcano': 50,\n",
       " 'waiting_room': 50,\n",
       " 'water': 50,\n",
       " 'water_tower': 50,\n",
       " 'watering_hole': 50,\n",
       " 'wave': 50,\n",
       " 'wet_bar': 50,\n",
       " 'wheat_field': 50,\n",
       " 'wild': 50,\n",
       " 'wind_farm': 50,\n",
       " 'windmill': 50,\n",
       " 'yard': 50,\n",
       " 'youth_hostel': 50}"
      ]
     },
     "execution_count": 125,
     "metadata": {},
     "output_type": "execute_result"
    }
   ],
   "source": [
    "mdict"
   ]
  },
  {
   "cell_type": "code",
   "execution_count": null,
   "metadata": {
    "collapsed": true
   },
   "outputs": [],
   "source": []
  }
 ],
 "metadata": {
  "kernelspec": {
   "display_name": "Python 3",
   "language": "python",
   "name": "python3"
  },
  "language_info": {
   "codemirror_mode": {
    "name": "ipython",
    "version": 3
   },
   "file_extension": ".py",
   "mimetype": "text/x-python",
   "name": "python",
   "nbconvert_exporter": "python",
   "pygments_lexer": "ipython3",
   "version": "3.6.3"
  }
 },
 "nbformat": 4,
 "nbformat_minor": 2
}
